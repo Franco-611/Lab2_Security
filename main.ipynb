{
 "cells": [
  {
   "cell_type": "markdown",
   "metadata": {},
   "source": [
    "## Lab 2 Deteccion de spam\n",
    "\n",
    "### - Diego Franco 20240\n",
    "### - Manuel Archila 161250"
   ]
  },
  {
   "cell_type": "code",
   "execution_count": 32,
   "metadata": {},
   "outputs": [
    {
     "name": "stderr",
     "output_type": "stream",
     "text": [
      "[nltk_data] Downloading package punkt to\n",
      "[nltk_data]     C:\\Users\\diego\\AppData\\Roaming\\nltk_data...\n",
      "[nltk_data]   Package punkt is already up-to-date!\n",
      "[nltk_data] Downloading package stopwords to\n",
      "[nltk_data]     C:\\Users\\diego\\AppData\\Roaming\\nltk_data...\n",
      "[nltk_data]   Package stopwords is already up-to-date!\n",
      "[nltk_data] Downloading package wordnet to\n",
      "[nltk_data]     C:\\Users\\diego\\AppData\\Roaming\\nltk_data...\n",
      "[nltk_data]   Package wordnet is already up-to-date!\n"
     ]
    },
    {
     "data": {
      "text/plain": [
       "True"
      ]
     },
     "execution_count": 32,
     "metadata": {},
     "output_type": "execute_result"
    }
   ],
   "source": [
    "import pandas as pd\n",
    "import re\n",
    "import nltk\n",
    "from nltk.corpus import stopwords\n",
    "from nltk.tokenize import word_tokenize\n",
    "from nltk.stem import WordNetLemmatizer\n",
    "\n",
    "# Descargar recursos adicionales de NLTK\n",
    "nltk.download('punkt')\n",
    "nltk.download('stopwords')\n",
    "nltk.download('wordnet')"
   ]
  },
  {
   "cell_type": "markdown",
   "metadata": {},
   "source": [
    "### Parte 1"
   ]
  },
  {
   "cell_type": "code",
   "execution_count": 33,
   "metadata": {},
   "outputs": [
    {
     "data": {
      "text/html": [
       "<div>\n",
       "<style scoped>\n",
       "    .dataframe tbody tr th:only-of-type {\n",
       "        vertical-align: middle;\n",
       "    }\n",
       "\n",
       "    .dataframe tbody tr th {\n",
       "        vertical-align: top;\n",
       "    }\n",
       "\n",
       "    .dataframe thead th {\n",
       "        text-align: right;\n",
       "    }\n",
       "</style>\n",
       "<table border=\"1\" class=\"dataframe\">\n",
       "  <thead>\n",
       "    <tr style=\"text-align: right;\">\n",
       "      <th></th>\n",
       "      <th>v1</th>\n",
       "      <th>v2</th>\n",
       "      <th>Unnamed: 2</th>\n",
       "      <th>Unnamed: 3</th>\n",
       "      <th>Unnamed: 4</th>\n",
       "    </tr>\n",
       "  </thead>\n",
       "  <tbody>\n",
       "    <tr>\n",
       "      <th>0</th>\n",
       "      <td>ham</td>\n",
       "      <td>Go until jurong point, crazy.. Available only ...</td>\n",
       "      <td>NaN</td>\n",
       "      <td>NaN</td>\n",
       "      <td>NaN</td>\n",
       "    </tr>\n",
       "    <tr>\n",
       "      <th>1</th>\n",
       "      <td>ham</td>\n",
       "      <td>Ok lar... Joking wif u oni...</td>\n",
       "      <td>NaN</td>\n",
       "      <td>NaN</td>\n",
       "      <td>NaN</td>\n",
       "    </tr>\n",
       "    <tr>\n",
       "      <th>2</th>\n",
       "      <td>spam</td>\n",
       "      <td>Free entry in 2 a wkly comp to win FA Cup fina...</td>\n",
       "      <td>NaN</td>\n",
       "      <td>NaN</td>\n",
       "      <td>NaN</td>\n",
       "    </tr>\n",
       "    <tr>\n",
       "      <th>3</th>\n",
       "      <td>ham</td>\n",
       "      <td>U dun say so early hor... U c already then say...</td>\n",
       "      <td>NaN</td>\n",
       "      <td>NaN</td>\n",
       "      <td>NaN</td>\n",
       "    </tr>\n",
       "    <tr>\n",
       "      <th>4</th>\n",
       "      <td>ham</td>\n",
       "      <td>Nah I don't think he goes to usf, he lives aro...</td>\n",
       "      <td>NaN</td>\n",
       "      <td>NaN</td>\n",
       "      <td>NaN</td>\n",
       "    </tr>\n",
       "  </tbody>\n",
       "</table>\n",
       "</div>"
      ],
      "text/plain": [
       "     v1                                                 v2 Unnamed: 2  \\\n",
       "0   ham  Go until jurong point, crazy.. Available only ...        NaN   \n",
       "1   ham                      Ok lar... Joking wif u oni...        NaN   \n",
       "2  spam  Free entry in 2 a wkly comp to win FA Cup fina...        NaN   \n",
       "3   ham  U dun say so early hor... U c already then say...        NaN   \n",
       "4   ham  Nah I don't think he goes to usf, he lives aro...        NaN   \n",
       "\n",
       "  Unnamed: 3 Unnamed: 4  \n",
       "0        NaN        NaN  \n",
       "1        NaN        NaN  \n",
       "2        NaN        NaN  \n",
       "3        NaN        NaN  \n",
       "4        NaN        NaN  "
      ]
     },
     "execution_count": 33,
     "metadata": {},
     "output_type": "execute_result"
    }
   ],
   "source": [
    "data = pd.read_csv('spam.csv', encoding='latin-1')\n",
    "\n",
    "data.head(5)\n",
    "\n"
   ]
  },
  {
   "cell_type": "code",
   "execution_count": 34,
   "metadata": {},
   "outputs": [],
   "source": [
    "data.columns = ['label', 'text', 'unused1', 'unused2', 'unused3']\n",
    "\n",
    "data = data[['label', 'text']]\n",
    "\n",
    "data['text'] = data['text'].str.lower()\n",
    "\n",
    "def remove_accents(text):\n",
    "    text = re.sub(r'[áàäâã]', 'a', text)\n",
    "    text = re.sub(r'[éèëê]', 'e', text)\n",
    "    text = re.sub(r'[íìïî]', 'i', text)\n",
    "    text = re.sub(r'[óòöôõ]', 'o', text)\n",
    "    text = re.sub(r'[úùüû]', 'u', text)\n",
    "    return text\n",
    "\n",
    "data['text'] = data['text'].apply(remove_accents)\n",
    "\n",
    "data['text'] = data['text'].apply(lambda x: re.sub(r'[^a-zA-Z\\s]', '', x))\n",
    "\n",
    "data['text'] = data['text'].apply(word_tokenize)\n",
    "\n",
    "stop_words = set(stopwords.words('english'))\n",
    "data['text'] = data['text'].apply(lambda x: [word for word in x if word not in stop_words])\n",
    "\n",
    "lemmatizer = WordNetLemmatizer()\n",
    "data['text'] = data['text'].apply(lambda x: [lemmatizer.lemmatize(word) for word in x])\n",
    "data['text'] = data['text'].apply(lambda x: [lemmatizer.lemmatize(word) for word in x])\n",
    "\n",
    "data['text'] = data['text'].apply(lambda x: ' '.join(x))"
   ]
  },
  {
   "cell_type": "code",
   "execution_count": 35,
   "metadata": {},
   "outputs": [
    {
     "data": {
      "text/html": [
       "<div>\n",
       "<style scoped>\n",
       "    .dataframe tbody tr th:only-of-type {\n",
       "        vertical-align: middle;\n",
       "    }\n",
       "\n",
       "    .dataframe tbody tr th {\n",
       "        vertical-align: top;\n",
       "    }\n",
       "\n",
       "    .dataframe thead th {\n",
       "        text-align: right;\n",
       "    }\n",
       "</style>\n",
       "<table border=\"1\" class=\"dataframe\">\n",
       "  <thead>\n",
       "    <tr style=\"text-align: right;\">\n",
       "      <th></th>\n",
       "      <th>label</th>\n",
       "      <th>text</th>\n",
       "    </tr>\n",
       "  </thead>\n",
       "  <tbody>\n",
       "    <tr>\n",
       "      <th>0</th>\n",
       "      <td>ham</td>\n",
       "      <td>go jurong point crazy available bugis n great ...</td>\n",
       "    </tr>\n",
       "    <tr>\n",
       "      <th>1</th>\n",
       "      <td>ham</td>\n",
       "      <td>ok lar joking wif u oni</td>\n",
       "    </tr>\n",
       "    <tr>\n",
       "      <th>2</th>\n",
       "      <td>spam</td>\n",
       "      <td>free entry wkly comp win fa cup final tkts st ...</td>\n",
       "    </tr>\n",
       "    <tr>\n",
       "      <th>3</th>\n",
       "      <td>ham</td>\n",
       "      <td>u dun say early hor u c already say</td>\n",
       "    </tr>\n",
       "    <tr>\n",
       "      <th>4</th>\n",
       "      <td>ham</td>\n",
       "      <td>nah dont think go usf life around though</td>\n",
       "    </tr>\n",
       "  </tbody>\n",
       "</table>\n",
       "</div>"
      ],
      "text/plain": [
       "  label                                               text\n",
       "0   ham  go jurong point crazy available bugis n great ...\n",
       "1   ham                            ok lar joking wif u oni\n",
       "2  spam  free entry wkly comp win fa cup final tkts st ...\n",
       "3   ham                u dun say early hor u c already say\n",
       "4   ham           nah dont think go usf life around though"
      ]
     },
     "execution_count": 35,
     "metadata": {},
     "output_type": "execute_result"
    }
   ],
   "source": [
    "data.head(5)"
   ]
  },
  {
   "cell_type": "markdown",
   "metadata": {},
   "source": [
    "### Parte 2"
   ]
  },
  {
   "cell_type": "code",
   "execution_count": 36,
   "metadata": {},
   "outputs": [],
   "source": [
    "from sklearn.model_selection import train_test_split\n",
    "from sklearn.feature_extraction.text import CountVectorizer, TfidfVectorizer\n",
    "from sklearn.naive_bayes import MultinomialNB\n",
    "from sklearn.metrics import confusion_matrix, precision_score, recall_score, roc_curve, auc\n",
    "import matplotlib.pyplot as plt\n",
    "from imblearn.over_sampling import SMOTE"
   ]
  },
  {
   "cell_type": "code",
   "execution_count": 37,
   "metadata": {},
   "outputs": [
    {
     "name": "stdout",
     "output_type": "stream",
     "text": [
      "Métricas para modelo Naive Bayes con CountVectorizer:\n",
      "Matriz de Confusión:\n",
      "[[1411   42]\n",
      " [  30  189]]\n",
      "Precision: 0.8181818181818182\n",
      "Recall: 0.863013698630137\n",
      "Precisión (ham): 0.9791811242192922\n",
      "Recall (ham): 0.9710942876806608\n",
      "Precisión (spam): 0.8181818181818182\n",
      "Recall (spam): 0.863013698630137\n"
     ]
    },
    {
     "data": {
      "image/png": "[encoded data removed]",
      "text/plain": [
       "<Figure size 640x480 with 1 Axes>"
      ]
     },
     "metadata": {},
     "output_type": "display_data"
    },
    {
     "name": "stdout",
     "output_type": "stream",
     "text": [
      "\n",
      "Métricas para modelo Naive Bayes con TF-IDF Vectorizer:\n",
      "Matriz de Confusión:\n",
      "[[1402   51]\n",
      " [  23  196]]\n",
      "Precision: 0.7935222672064778\n",
      "Recall: 0.8949771689497716\n",
      "Precisión (ham): 0.983859649122807\n",
      "Recall (ham): 0.9649002064693737\n",
      "Precisión (spam): 0.7935222672064778\n",
      "Recall (spam): 0.8949771689497716\n"
     ]
    },
    {
     "data": {
      "image/png": "[encoded data removed]",
      "text/plain": [
       "<Figure size 640x480 with 1 Axes>"
      ]
     },
     "metadata": {},
     "output_type": "display_data"
    }
   ],
   "source": [
    "X_train, X_test, y_train, y_test = train_test_split(data['text'], data['label'], test_size=0.3, random_state=42)\n",
    "\n",
    "count_vectorizer = CountVectorizer(min_df=5, max_df=0.85)\n",
    "X_train_count = count_vectorizer.fit_transform(X_train)\n",
    "X_test_count = count_vectorizer.transform(X_test)\n",
    "\n",
    "tfidf_vectorizer = TfidfVectorizer(min_df=5)\n",
    "X_train_tfidf = tfidf_vectorizer.fit_transform(X_train)\n",
    "X_test_tfidf = tfidf_vectorizer.transform(X_test)\n",
    "\n",
    "smote = SMOTE(random_state=42)\n",
    "X_sm_tfidf, y_sm_tfidf = smote.fit_resample(X_train_tfidf, y_train)\n",
    "\n",
    "X_sm_count, y_sm_count = smote.fit_resample(X_train_count, y_train)\n",
    "\n",
    "\n",
    "\n",
    "nb_count = MultinomialNB()\n",
    "nb_count.fit(X_sm_count, y_sm_count)\n",
    "\n",
    "nb_tfidf = MultinomialNB()\n",
    "nb_tfidf.fit(X_sm_tfidf, y_sm_tfidf)\n",
    "\n",
    "def show_metrics(model, X_test, y_test):\n",
    "    y_pred = model.predict(X_test)\n",
    "    cm = confusion_matrix(y_test, y_pred)\n",
    "    precision = precision_score(y_test, y_pred, pos_label='spam')\n",
    "    recall = recall_score(y_test, y_pred, pos_label='spam')\n",
    "\n",
    "    print(\"Matriz de Confusión:\")\n",
    "    print(cm)\n",
    "    print(\"Precision:\", precision)\n",
    "    print(\"Recall:\", recall)\n",
    "\n",
    "    tp_ham = cm[0][0]\n",
    "    fn_ham = cm[0][1]\n",
    "    fp_ham = cm[1][0]\n",
    "\n",
    "    precision_ham = tp_ham / (tp_ham + fp_ham)\n",
    "    recall_ham = tp_ham / (tp_ham + fn_ham)\n",
    "\n",
    "    tp_spam = cm[1][1]\n",
    "    fn_spam = cm[1][0]\n",
    "    fp_spam = cm[0][1]\n",
    "\n",
    "    precision_spam = tp_spam / (tp_spam + fp_spam)\n",
    "    recall_spam = tp_spam / (tp_spam + fn_spam)\n",
    "\n",
    "    print(\"Precisión (ham):\", precision_ham)\n",
    "    print(\"Recall (ham):\", recall_ham)\n",
    "    print(\"Precisión (spam):\", precision_spam)\n",
    "    print(\"Recall (spam):\", recall_spam)\n",
    "\n",
    "    y_scores = model.predict_proba(X_test)[:, 1]\n",
    "    fpr, tpr, thresholds = roc_curve(y_test, y_scores, pos_label='spam')\n",
    "    roc_auc = auc(fpr, tpr)\n",
    "\n",
    "    plt.figure()\n",
    "    plt.plot(fpr, tpr, color='darkorange', lw=2, label='ROC curve (area = %0.2f)' % roc_auc)\n",
    "    plt.plot([0, 1], [0, 1], color='navy', lw=2, linestyle='--')\n",
    "    plt.xlim([0.0, 1.0])\n",
    "    plt.ylim([0.0, 1.05])\n",
    "    plt.xlabel('False Positive Rate')\n",
    "    plt.ylabel('True Positive Rate')\n",
    "    plt.title('Receiver Operating Characteristic')\n",
    "    plt.legend(loc=\"lower right\")\n",
    "    plt.show()\n",
    "    \n",
    "print(\"Métricas para modelo Naive Bayes con CountVectorizer:\")\n",
    "show_metrics(nb_count, X_test_count, y_test)\n",
    "\n",
    "print(\"\\nMétricas para modelo Naive Bayes con TF-IDF Vectorizer:\")\n",
    "show_metrics(nb_tfidf, X_test_tfidf, y_test)"
   ]
  },
  {
   "cell_type": "markdown",
   "metadata": {},
   "source": [
    "## Preguntas"
   ]
  },
  {
   "cell_type": "markdown",
   "metadata": {},
   "source": [
    "#### 1. ¿Qué error es más “aceptable”: dejar pasar un SMS de SPAM (falso negativo) o bloquear un SMS legítimo (falso positivo)? Justifique su respuesta.\n",
    "\n",
    "Generalmente el impacto de dejar pasar un SMS de spam (falso negativo) tiende a ser más perjudicial que el de bloquear un SMS legítimo (falso positivo). Esto se debe a que el spam puede contener contenido malicioso que puede afectar la seguridad del usuario, mientras que un SMS legítimo bloqueado puede ser recuperado por el usuario. \n",
    "\n",
    "Además de eso un SMS de spam que no es detectado y pasa desapercibido puede llevar a que el usuario sea engañado o víctima de estafas, phishing u otras actividades fraudulentas. Por otro lado bloquear un SMS legítimo puede ser molesto para el usuario, pero dejar pasar un SMS de spam puede ser percibido como una violación más grave de la privacidad, ya que implica recibir mensajes no deseados que podrían contener contenido ofensivo, engañoso o malicioso."
   ]
  },
  {
   "cell_type": "markdown",
   "metadata": {},
   "source": [
    "#### 2. Compare los valores para cada modelo de representación numérico. En base a la respuesta de la primera pregunta ¿Qué modelo de representación numérica produjo el mejor resultado, BoG o TF-IDF? ¿Cuál o cuáles son las razones por las que dicho modelo se comportó de mejor manera?\n",
    "\n",
    "Según las respuestas anteriores preferimos minimizar los falsos positivos mientras mantenemos un recall razonablemente alto para evitar dejar pasar demasiados mensajes de spam.\n",
    "\n",
    "Basándonos en las métricas proporcionadas para los modelos Naive Bayes con CountVectorizer (BoW) y TF-IDF Vectorizer, podemos observar que:\n",
    "\n",
    "El modelo Naive Bayes con TF-IDF Vectorizer tiene una precision perfecta de 1.0, lo que indica que no comete falsos positivos, pero su recall es más bajo en comparación con el modelo BoW. Por otro lado, el modelo Naive Bayes con CountVectorizer (BoW) tiene una precision ligeramente más baja pero un recall más alto.\n",
    "\n",
    "Considerando la balanceada precisión y recall, el modelo de representación numérica Bag of Words (BoW) parece producir el mejor resultado para este caso particular, ya que ofrece una alta precisión y un recall aceptable, lo que minimiza los falsos positivos sin dejar pasar demasiados mensajes de spam.\n",
    "\n",
    "Que el modelo de representación numérica Bag of Words (BoW) se comportará de mejor manera fue debido a su capacidad para capturar la frecuencia de palabras y su simplicidad, lo que resultó en una alta precisión y un recall aceptable en la detección de spam en mensajes cortos como los SMS."
   ]
  },
  {
   "cell_type": "markdown",
   "metadata": {},
   "source": [
    "#### 3. En base a la exploración de datos e ingeniería de características que realizó en el primer y este laboratorio, ¿qué consejos le daría a un familiar que le solicita ayuda para detectar si un email o SMS es phishing o no? ¿En qué características de una URL/email podría fijarse su familiar para ayudarlo a detectar un potencial phishing?\n",
    "\n",
    "- Errores de ortografía o gramática: Los mensajes de phishing suelen contener errores de ortografía o gramática, ya que suelen ser escritos por personas que no hablan el idioma nativo del usuario. Aunque en tu proceso se normalizó el texto eliminando acentos y puntuación, y se minimizó la importancia de las palabras comunes a través de la eliminación de stopwords, en la práctica, decirle a tu familiar que preste atención a la calidad del lenguaje puede ser útil.\n",
    "- Uso de palabras clave o frases que generen urgencia o miedo: Algunos términos como \"urgente\", \"verificación requerida\", o \"cuenta suspendida\" son comúnmente usados en intentos de phishing para crear un sentido de urgencia.\n",
    "- Estilo o tono inusual: Si el mensaje no parece coincidir con el estilo o tono habitual del supuesto remitente podría ser sospechoso."
   ]
  },
  {
   "cell_type": "markdown",
   "metadata": {},
   "source": [
    "#### 4. Si detectamos una URL o email/SMS de phishing, ¿qué podemos hacer para detener su distribución?\n",
    "- Contactar a la empresa o entidad que está siendo suplantada para que tomen medidas.\n",
    "- Repotar a los proveedores de servicios de internet o hosting para que bloqueen la URL.\n",
    "- Reportar a centros de denuncias de ciberseguridad."
   ]
  },
  {
   "cell_type": "markdown",
   "metadata": {},
   "source": [
    "## Re- calificacion\n",
    "\n",
    "### Aplicacion de umbrales\n",
    "En los procesos de vectorización de texto, tanto en TfidfVectorizer como en CountVectorizer, los umbrales min_df y max_df sirven para filtrar tokens basándose en su frecuencia de aparición en el conjunto de documentos. El parámetro min_df establece el número mínimo de documentos en los que un token debe aparecer para ser incluido en la matriz de características, ayudando a eliminar términos raros que pueden no aportar valor significativo. Por otro lado, max_df define el límite máximo de documentos en los que un token puede aparecer; los tokens que superen este umbral se consideran demasiado comunes y se excluyen, con el fin de eliminar palabras que son tan frecuentes que no ayudan a diferenciar entre textos. Estos umbrales ayudan a optimizar la selección de características, mejorando así la relevancia de los datos para el modelado y la eficiencia computacional\n",
    "\n",
    "\n",
    "### Calculo de recall y presición de ambas clases\n",
    "Se agregó al código existente el cálculo de precisión y recall para cada clase (ham y spam) del modelo Naive Bayes con CountVectorizer y con TF-IDF Vectorizer. Este proceso implica calcular la precisión y recall por separado para cada clase, permitiendo una evaluación más detallada del rendimiento del modelo en la clasificación de ambos tipos de mensajes."
   ]
  }
 ],
 "metadata": {
  "kernelspec": {
   "display_name": "Python 3",
   "language": "python",
   "name": "python3"
  },
  "language_info": {
   "codemirror_mode": {
    "name": "ipython",
    "version": 3
   },
   "file_extension": ".py",
   "mimetype": "text/x-python",
   "name": "python",
   "nbconvert_exporter": "python",
   "pygments_lexer": "ipython3",
   "version": "3.11.1"
  }
 },
 "nbformat": 4,
 "nbformat_minor": 2
}
